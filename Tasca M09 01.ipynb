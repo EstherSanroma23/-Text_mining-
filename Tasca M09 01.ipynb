{
 "cells": [
  {
   "cell_type": "markdown",
   "id": "7689e333",
   "metadata": {},
   "source": [
    "#### Exercicis d'anàlisi de sentiment i textos."
   ]
  },
  {
   "cell_type": "markdown",
   "id": "2d9a5115",
   "metadata": {},
   "source": [
    "### - Exercici 1\n",
    "#### Agafa un text en anglès que vulguis, i calcula'n la freqüència de les paraules."
   ]
  },
  {
   "cell_type": "code",
   "execution_count": 103,
   "id": "19a6066d",
   "metadata": {},
   "outputs": [
    {
     "name": "stderr",
     "output_type": "stream",
     "text": [
      "[nltk_data] Error loading punkt: <urlopen error EOF occurred in\n",
      "[nltk_data]     violation of protocol (_ssl.c:1129)>\n",
      "[nltk_data] Downloading package averaged_perceptron_tagger to\n",
      "[nltk_data]     /Users/esthersanroma/nltk_data...\n",
      "[nltk_data]   Package averaged_perceptron_tagger is already up-to-\n",
      "[nltk_data]       date!\n",
      "[nltk_data] Downloading package wordnet to\n",
      "[nltk_data]     /Users/esthersanroma/nltk_data...\n",
      "[nltk_data]   Package wordnet is already up-to-date!\n",
      "[nltk_data] Downloading package stopwords to\n",
      "[nltk_data]     /Users/esthersanroma/nltk_data...\n",
      "[nltk_data]   Package stopwords is already up-to-date!\n",
      "[nltk_data] Downloading package treebank to\n",
      "[nltk_data]     /Users/esthersanroma/nltk_data...\n",
      "[nltk_data]   Package treebank is already up-to-date!\n"
     ]
    }
   ],
   "source": [
    "import numpy as np\n",
    "import pandas as pd\n",
    "import matplotlib.pyplot as plt\n",
    "import nltk\n",
    "nltk.download('punkt')\n",
    "nltk.download('averaged_perceptron_tagger')\n",
    "nltk.download('wordnet')\n",
    "nltk.download('stopwords')\n",
    "nltk.download('treebank')\n",
    "from nltk.tokenize import word_tokenize\n",
    "from nltk.probability import FreqDist\n",
    "from nltk.tokenize import sent_tokenize\n",
    "from nltk.corpus import stopwords\n",
    "from nltk.stem.porter import PorterStemmer\n",
    "from nltk.stem import SnowballStemmer"
   ]
  },
  {
   "cell_type": "markdown",
   "id": "9973692d",
   "metadata": {},
   "source": [
    "El text escollit és un text de twiter: Wisconsin welcomed us home with a winter snowstorm, but celebrating Mardi Gras these past few days has been incredible. Have you ever been? What an experience! New Orleans folks know how to have fun. I loved it. 🍹🎉✨\n",
    "Traduït del: anglès per\n",
    "Wisconsin ens va rebre a casa amb una tempesta de neu hivernal, però celebrar el Mardi Gras aquests darrers dies ha estat increïble. Has estat mai? Quina experiència! La gent de Nova Orleans sap com divertir-se. Em va encantar. 🍹🎉✨\n",
    "4.777 Visualitzacions, 2 Retuits, 58 Agradaments."
   ]
  },
  {
   "cell_type": "code",
   "execution_count": 104,
   "id": "9a684fe1",
   "metadata": {},
   "outputs": [],
   "source": [
    "text_twiter=\"wisconsin welcomed us home with a winter snowstorm, but celebrating mardi gras these past few days has been incredible. have you ever been? what an experience! new orleans folks know how to have fun. i loved it. \""
   ]
  },
  {
   "cell_type": "markdown",
   "id": "90aace59",
   "metadata": {},
   "source": [
    "La tokenització és el primer pas en l'anàlisi de textos. El procés de descomposició d'un paràgraf de text en fragments més petits, com ara paraules o frases, s'anomena Tokenization. El testimoni és una entitat única que constitueix els blocs de construcció d'una frase o d'un paràgraf."
   ]
  },
  {
   "cell_type": "code",
   "execution_count": 105,
   "id": "ac6c5a50",
   "metadata": {},
   "outputs": [
    {
     "name": "stdout",
     "output_type": "stream",
     "text": [
      "['wisconsin welcomed us home with a winter snowstorm, but celebrating mardi gras these past few days has been incredible.', 'have you ever been?', 'what an experience!', 'new orleans folks know how to have fun.', 'i loved it.']\n"
     ]
    }
   ],
   "source": [
    "tokenized_text=sent_tokenize(text_twiter)\n",
    "print(tokenized_text)"
   ]
  },
  {
   "cell_type": "code",
   "execution_count": 106,
   "id": "523e0481",
   "metadata": {},
   "outputs": [
    {
     "name": "stdout",
     "output_type": "stream",
     "text": [
      "['wisconsin', 'welcomed', 'us', 'home', 'with', 'a', 'winter', 'snowstorm', ',', 'but', 'celebrating', 'mardi', 'gras', 'these', 'past', 'few', 'days', 'has', 'been', 'incredible', '.', 'have', 'you', 'ever', 'been', '?', 'what', 'an', 'experience', '!', 'new', 'orleans', 'folks', 'know', 'how', 'to', 'have', 'fun', '.', 'i', 'loved', 'it', '.']\n"
     ]
    }
   ],
   "source": [
    "tokenized_word= word_tokenize(text_twiter)\n",
    "print(tokenized_word)"
   ]
  },
  {
   "cell_type": "code",
   "execution_count": 107,
   "id": "39efc665",
   "metadata": {},
   "outputs": [
    {
     "name": "stdout",
     "output_type": "stream",
     "text": [
      "<FreqDist with 39 samples and 43 outcomes>\n"
     ]
    }
   ],
   "source": [
    "fdist = FreqDist(tokenized_word)\n",
    "print(fdist)"
   ]
  },
  {
   "cell_type": "code",
   "execution_count": 108,
   "id": "305cf6bf",
   "metadata": {},
   "outputs": [
    {
     "name": "stdout",
     "output_type": "stream",
     "text": [
      "[('.', 3), ('been', 2), ('have', 2), ('wisconsin', 1), ('welcomed', 1)]\n"
     ]
    },
    {
     "data": {
      "image/png": "[encoded data removed]",
      "text/plain": [
       "<Figure size 432x288 with 1 Axes>"
      ]
     },
     "metadata": {
      "needs_background": "light"
     },
     "output_type": "display_data"
    }
   ],
   "source": [
    "print(fdist.most_common(5))\n",
    "fdist.plot(30,cumulative=False)\n",
    "plt.show()"
   ]
  },
  {
   "cell_type": "markdown",
   "id": "046a2df9",
   "metadata": {},
   "source": [
    "### - Exercici 2\n",
    "#### Treu les stopwords i realitza stemming al teu conjunt de dades."
   ]
  },
  {
   "cell_type": "markdown",
   "id": "a27aab5f",
   "metadata": {},
   "source": [
    "Stopwords considerades com a soroll en el text. El text pot contenir paraules d'aturada com ara is, am, are, this, a, an, the, etc.\n",
    "A NLTK per eliminar les paraules clau, heu de crear una llista de paraules clau i filtrar la vostra llista de fitxes a partir d'aquestes paraules."
   ]
  },
  {
   "cell_type": "code",
   "execution_count": 109,
   "id": "bbd19ce9",
   "metadata": {},
   "outputs": [
    {
     "name": "stdout",
     "output_type": "stream",
     "text": [
      "{'won', 're', 'ourselves', 'hers', 'couldn', 'didn', 'doesn', 'off', 'over', \"don't\", 'and', 'm', 'mustn', 've', 'for', \"shouldn't\", 'who', 'theirs', 'while', 'weren', 'here', 'he', 'which', 'shan', 'that', 's', 'both', 'to', 'me', 'then', 'only', \"didn't\", 'has', 'his', 'were', 'had', 'needn', 'the', 'was', 'hasn', 'are', 'my', \"you've\", 'should', 'against', 'their', 'll', 'is', 'an', 'not', 'its', 'nor', 'so', 'whom', 'do', 'at', 'just', 'yourselves', 'as', 'him', 'each', 'where', 'with', \"it's\", 'd', 'between', 'before', \"shan't\", 'more', 'but', 'other', \"aren't\", 'they', 'have', 'or', 'be', 'own', 'ma', 't', 'from', \"that'll\", \"weren't\", \"isn't\", \"doesn't\", \"needn't\", 'mightn', 'them', 'under', 'don', 'what', 'through', 'after', 'no', 'can', 'if', 'isn', \"hadn't\", 'of', 'how', 'during', 'a', \"mustn't\", 'there', 'why', 'down', 'than', 'about', 'itself', 'it', 'these', 'this', 'such', 'too', 'yours', 'by', 'ours', \"you'd\", 'himself', 'until', 'further', 'she', \"haven't\", \"mightn't\", 'those', 'ain', \"hasn't\", 'our', 'i', 'did', 'her', 'will', 'once', 'again', 'you', 'myself', \"won't\", 'same', 'been', 'below', 'now', \"wasn't\", 'wouldn', \"she's\", \"couldn't\", 'out', 'having', 'herself', 'on', 'because', 'all', 'wasn', 'o', 'haven', \"wouldn't\", 'some', 'being', 'any', 'themselves', 'in', 'very', \"should've\", 'y', \"you're\", 'up', 'aren', 'yourself', 'shouldn', 'few', 'doing', 'into', 'when', \"you'll\", 'we', 'your', 'am', 'most', 'hadn', 'above', 'does'}\n"
     ]
    }
   ],
   "source": [
    "stop_words=set(stopwords.words(\"english\"))\n",
    "print(stop_words)"
   ]
  },
  {
   "cell_type": "code",
   "execution_count": 110,
   "id": "070deaea",
   "metadata": {},
   "outputs": [
    {
     "name": "stdout",
     "output_type": "stream",
     "text": [
      "Tokenized Sentence twiter: ['wisconsin', 'welcomed', 'us', 'home', 'with', 'a', 'winter', 'snowstorm', ',', 'but', 'celebrating', 'mardi', 'gras', 'these', 'past', 'few', 'days', 'has', 'been', 'incredible', '.', 'have', 'you', 'ever', 'been', '?', 'what', 'an', 'experience', '!', 'new', 'orleans', 'folks', 'know', 'how', 'to', 'have', 'fun', '.', 'i', 'loved', 'it', '.']\n",
      "Filtered Sentence twiter: ['wisconsin', 'welcomed', 'us', 'home', 'winter', 'snowstorm', ',', 'celebrating', 'mardi', 'gras', 'past', 'days', 'incredible', '.', 'ever', '?', 'experience', '!', 'new', 'orleans', 'folks', 'know', 'fun', '.', 'loved', '.']\n"
     ]
    }
   ],
   "source": [
    "filtered_sent = [w for w in tokenized_word if not w in stop_words]\n",
    "print(\"Tokenized Sentence twiter:\", tokenized_word)\n",
    "print(\"Filtered Sentence twiter:\", filtered_sent)"
   ]
  },
  {
   "cell_type": "markdown",
   "id": "4e37e2e0",
   "metadata": {},
   "source": [
    "Stemming és un procés de normalització lingüística, que redueix les paraules a la seva paraula arrel o talla els afixos de derivació. Per exemple, connection, connected, connecting  es redueix a una paraula comuna \"connect\"."
   ]
  },
  {
   "cell_type": "code",
   "execution_count": 111,
   "id": "4ad64840",
   "metadata": {},
   "outputs": [
    {
     "name": "stdout",
     "output_type": "stream",
     "text": [
      "Filtered Sentence: ['wisconsin', 'welcomed', 'us', 'home', 'winter', 'snowstorm', ',', 'celebrating', 'mardi', 'gras', 'past', 'days', 'incredible', '.', 'ever', '?', 'experience', '!', 'new', 'orleans', 'folks', 'know', 'fun', '.', 'loved', '.']\n",
      "Stemmed Sentence: ['wisconsin', 'welcom', 'us', 'home', 'winter', 'snowstorm', ',', 'celebr', 'mardi', 'gra', 'past', 'day', 'incred', '.', 'ever', '?', 'experi', '!', 'new', 'orlean', 'folk', 'know', 'fun', '.', 'love', '.']\n"
     ]
    }
   ],
   "source": [
    "ps = PorterStemmer()\n",
    "stemmed_words=[]\n",
    "for w in filtered_sent:\n",
    "    stemmed_words.append(ps.stem(w))\n",
    "\n",
    "print(\"Filtered Sentence:\",filtered_sent)\n",
    "print(\"Stemmed Sentence:\",stemmed_words)"
   ]
  },
  {
   "cell_type": "code",
   "execution_count": 112,
   "id": "6e6dbeb0",
   "metadata": {},
   "outputs": [
    {
     "name": "stdout",
     "output_type": "stream",
     "text": [
      "['wisconsin', 'welcomed', 'us', 'home', 'with', 'a', 'winter', 'snowstorm', ',', 'but', 'celebrating', 'mardi', 'gras', 'these', 'past', 'few', 'days', 'has', 'been', 'incredible', '.', 'have', 'you', 'ever', 'been', '?', 'what', 'an', 'experience', '!', 'new', 'orleans', 'folks', 'know', 'how', 'to', 'have', 'fun', '.', 'i', 'loved', 'it', '.']\n"
     ]
    }
   ],
   "source": [
    "tokens=nltk.word_tokenize(text_twiter)\n",
    "print(tokens)"
   ]
  },
  {
   "cell_type": "markdown",
   "id": "e7571b40",
   "metadata": {},
   "source": [
    "L'objectiu principal de l'etiquetatge Part-of-Speech (POS) és identificar el grup gramatical d'una paraula determinada. Tant si es tracta d'un SUBSTANTIU, PRONOM, ADJECTIU, VERB, ADVERBIS, etc. en funció del context. L'etiquetatge POS busca relacions dins de la frase i assigna una etiqueta corresponent a la paraula."
   ]
  },
  {
   "cell_type": "code",
   "execution_count": 113,
   "id": "4596194a",
   "metadata": {},
   "outputs": [
    {
     "data": {
      "text/plain": [
       "[('wisconsin', 'NN'),\n",
       " ('welcomed', 'VBD'),\n",
       " ('us', 'PRP'),\n",
       " ('home', 'NN'),\n",
       " ('with', 'IN'),\n",
       " ('a', 'DT'),\n",
       " ('winter', 'NN'),\n",
       " ('snowstorm', 'NN'),\n",
       " (',', ','),\n",
       " ('but', 'CC'),\n",
       " ('celebrating', 'VBG'),\n",
       " ('mardi', 'JJ'),\n",
       " ('gras', 'NNS'),\n",
       " ('these', 'DT'),\n",
       " ('past', 'IN'),\n",
       " ('few', 'JJ'),\n",
       " ('days', 'NNS'),\n",
       " ('has', 'VBZ'),\n",
       " ('been', 'VBN'),\n",
       " ('incredible', 'JJ'),\n",
       " ('.', '.'),\n",
       " ('have', 'VBP'),\n",
       " ('you', 'PRP'),\n",
       " ('ever', 'RB'),\n",
       " ('been', 'VBN'),\n",
       " ('?', '.'),\n",
       " ('what', 'WP'),\n",
       " ('an', 'DT'),\n",
       " ('experience', 'NN'),\n",
       " ('!', '.'),\n",
       " ('new', 'JJ'),\n",
       " ('orleans', 'NNS'),\n",
       " ('folks', 'NNS'),\n",
       " ('know', 'VBP'),\n",
       " ('how', 'WRB'),\n",
       " ('to', 'TO'),\n",
       " ('have', 'VB'),\n",
       " ('fun', 'NN'),\n",
       " ('.', '.'),\n",
       " ('i', 'NN'),\n",
       " ('loved', 'VBD'),\n",
       " ('it', 'PRP'),\n",
       " ('.', '.')]"
      ]
     },
     "execution_count": 113,
     "metadata": {},
     "output_type": "execute_result"
    }
   ],
   "source": [
    "nltk.pos_tag(tokens)"
   ]
  },
  {
   "cell_type": "markdown",
   "id": "c1a610f7",
   "metadata": {},
   "source": [
    "### - Exercici 3\n",
    "#### Realitza sentiment analysis al teu conjunt de dades."
   ]
  },
  {
   "cell_type": "code",
   "execution_count": 114,
   "id": "0cc6543c",
   "metadata": {},
   "outputs": [
    {
     "name": "stdout",
     "output_type": "stream",
     "text": [
      "text twiter 0.28106060606060607\n"
     ]
    }
   ],
   "source": [
    "from textblob import TextBlob\n",
    "blob = TextBlob(text_twiter)\n",
    "sentiment = blob.sentiment.polarity\n",
    "print(\"text twiter\",sentiment)"
   ]
  },
  {
   "cell_type": "markdown",
   "id": "90b7769a",
   "metadata": {},
   "source": [
    "El sentiment general del text, sent negatiu quan està per sota de zero, neutre quan és zero i positiu quan està per sobre de zero. En aquest cas, la puntuació està per sobre de zero, el que indica que el sentiment del text és lleugerament positiu."
   ]
  },
  {
   "cell_type": "code",
   "execution_count": 115,
   "id": "89de8a2d",
   "metadata": {
    "scrolled": true
   },
   "outputs": [
    {
     "name": "stdout",
     "output_type": "stream",
     "text": [
      "['wisconsin welcomed us home with a winter snowstorm, but celebrating mardi gras these past few days has been incredible', ' have you ever been? what an experience! new orleans folks know how to have fun', ' i loved it', ' ']\n"
     ]
    }
   ],
   "source": [
    "sentences = nltk.sent_tokenize(text_twiter)\n",
    "sentences = text_twiter.split('.')\n",
    "print(sentences)"
   ]
  },
  {
   "cell_type": "code",
   "execution_count": 116,
   "id": "7471c76b",
   "metadata": {},
   "outputs": [
    {
     "name": "stdout",
     "output_type": "stream",
     "text": [
      "Accuracy twiter: 1.0\n",
      "La polaritat de sentiments del text_twiter és: pos\n"
     ]
    }
   ],
   "source": [
    "from sklearn.feature_extraction.text import CountVectorizer\n",
    "from sklearn.model_selection import train_test_split\n",
    "from sklearn.naive_bayes import MultinomialNB\n",
    "from sklearn.metrics import accuracy_score\n",
    "\n",
    "# Defineix el conjunt de dades preetiquetat\n",
    "labeled_data = [\n",
    "    {'text_twiter': 'Wisconsin welcomed us home with a winter snowstorm, but celebrating Mardi Gras these past few days has been incredible. Have you ever been? What an experience! New Orleans folks know how to have fun. I loved it.', 'emotion': 'pos'},\n",
    "    {'text_twiter': 'Another boring day at home. Nothing to do.', 'emotion': 'neg'},\n",
    "    {'text_twiter': 'I just got a promotion at work! Feeling so happy and excited!', 'emotion': 'pos'},\n",
    "    {'text_twiter': 'I hate being stuck in traffic every day. It makes me so frustrated!', 'emotion': 'neg'}\n",
    "    # ...\n",
    "]\n",
    "\n",
    "text_twiter = [data['text_twiter'] for data in labeled_data]\n",
    "emotions = [data['emotion'] for data in labeled_data]\n",
    "vectorizer = CountVectorizer()\n",
    "X = vectorizer.fit_transform(text_twiter)\n",
    "y = emotions\n",
    "X_train, X_test, y_train, y_test = train_test_split(X, y, test_size=0.2)\n",
    "clf = MultinomialNB()\n",
    "clf.fit(X_train, y_train)\n",
    "y_pred = clf.predict(X_test)\n",
    "accuracy = accuracy_score(y_test, y_pred)\n",
    "print('Accuracy twiter:', accuracy)\n",
    "\n",
    "\n",
    "\n",
    "blob = TextBlob(\"wisconsin welcomed us home with a winter snowstorm, but celebrating mardi gras these past few days has been incredible. have you ever been? what an experience! new orleans folks know how to have fun. i love wisconsin.\")\n",
    "text_twiter_vector = vectorizer.transform([str(blob)])\n",
    "sentiment = clf.predict(text_twiter_vector)[0]\n",
    "\n",
    "print(\"La polaritat de sentiments del text_twiter és:\", sentiment)\n"
   ]
  },
  {
   "cell_type": "markdown",
   "id": "3ac459ac",
   "metadata": {},
   "source": [
    "El model de machine learning basat en Naive Bayes utilitza el conteig de paraules per a classificar el text, mentre que TextBlob utilitza un enfocament basat en regles lingüístiques per a inferir el sentiment."
   ]
  },
  {
   "cell_type": "markdown",
   "id": "c6ce0547",
   "metadata": {},
   "source": [
    "MultinomialNB() és una implementació de l'algoritme de Naive Bayes per a classificació de textos. Concretament, MultinomialNB() s'utilitza quan es vol fer una classificació de textos amb freqüències de paraules, com en aquest cas on s'utilitza CountVectorizer() per a transformar les paraules dels textos en vectors de freqüència. Així doncs, s'està fent servir Naive Bayes amb el mètode multinomial per a classificar les emocions dels textos.\n",
    "En aquest cas, s'han proporcionat diversos tuits amb el seu corresponent sentiment (pos o neg) com a etiqueta. Això permet entrenar un model per predir el sentiment de nous tuits."
   ]
  }
 ],
 "metadata": {
  "kernelspec": {
   "display_name": "Python 3 (ipykernel)",
   "language": "python",
   "name": "python3"
  },
  "language_info": {
   "codemirror_mode": {
    "name": "ipython",
    "version": 3
   },
   "file_extension": ".py",
   "mimetype": "text/x-python",
   "name": "python",
   "nbconvert_exporter": "python",
   "pygments_lexer": "ipython3",
   "version": "3.9.12"
  }
 },
 "nbformat": 4,
 "nbformat_minor": 5
}
